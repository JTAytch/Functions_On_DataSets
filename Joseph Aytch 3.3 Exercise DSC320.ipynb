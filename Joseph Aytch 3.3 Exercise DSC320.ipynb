{
 "cells": [
  {
   "cell_type": "markdown",
   "id": "0975e5f7-e16e-4bd5-a78a-813fd71f9371",
   "metadata": {},
   "source": [
    "# Joseph Aytch 3.2 Exercise DSC320-T301 Math for Data Science (2243-1) "
   ]
  },
  {
   "cell_type": "code",
   "execution_count": 41,
   "id": "c7f2a0f6-37cb-4bfc-b60e-4ddb762b495f",
   "metadata": {
    "tags": []
   },
   "outputs": [],
   "source": [
    "import os\n",
    "os.chdir('D:/JupyterDocs')"
   ]
  },
  {
   "cell_type": "code",
   "execution_count": 42,
   "id": "3e3217b1-a2db-49c5-817b-9111b9d0dbc7",
   "metadata": {
    "tags": []
   },
   "outputs": [],
   "source": [
    "# Import useful libraries\n",
    "import numpy as np\n",
    "import pandas as pd\n",
    "import matplotlib.pyplot as plt\n",
    "import matplotlib\n"
   ]
  },
  {
   "cell_type": "code",
   "execution_count": 43,
   "id": "3a141419-74bd-4216-9859-a2ad8cf31ced",
   "metadata": {
    "tags": []
   },
   "outputs": [
    {
     "data": {
      "text/html": [
       "<div>\n",
       "<style scoped>\n",
       "    .dataframe tbody tr th:only-of-type {\n",
       "        vertical-align: middle;\n",
       "    }\n",
       "\n",
       "    .dataframe tbody tr th {\n",
       "        vertical-align: top;\n",
       "    }\n",
       "\n",
       "    .dataframe thead th {\n",
       "        text-align: right;\n",
       "    }\n",
       "</style>\n",
       "<table border=\"1\" class=\"dataframe\">\n",
       "  <thead>\n",
       "    <tr style=\"text-align: right;\">\n",
       "      <th></th>\n",
       "      <th>year</th>\n",
       "      <th>us_pop</th>\n",
       "    </tr>\n",
       "  </thead>\n",
       "  <tbody>\n",
       "    <tr>\n",
       "      <th>0</th>\n",
       "      <td>1790</td>\n",
       "      <td>3929326</td>\n",
       "    </tr>\n",
       "    <tr>\n",
       "      <th>1</th>\n",
       "      <td>1800</td>\n",
       "      <td>5308483</td>\n",
       "    </tr>\n",
       "    <tr>\n",
       "      <th>2</th>\n",
       "      <td>1810</td>\n",
       "      <td>7239881</td>\n",
       "    </tr>\n",
       "    <tr>\n",
       "      <th>3</th>\n",
       "      <td>1820</td>\n",
       "      <td>9638453</td>\n",
       "    </tr>\n",
       "    <tr>\n",
       "      <th>4</th>\n",
       "      <td>1830</td>\n",
       "      <td>12866020</td>\n",
       "    </tr>\n",
       "    <tr>\n",
       "      <th>5</th>\n",
       "      <td>1840</td>\n",
       "      <td>17069453</td>\n",
       "    </tr>\n",
       "    <tr>\n",
       "      <th>6</th>\n",
       "      <td>1850</td>\n",
       "      <td>23191876</td>\n",
       "    </tr>\n",
       "    <tr>\n",
       "      <th>7</th>\n",
       "      <td>1860</td>\n",
       "      <td>31443321</td>\n",
       "    </tr>\n",
       "    <tr>\n",
       "      <th>8</th>\n",
       "      <td>1870</td>\n",
       "      <td>39818449</td>\n",
       "    </tr>\n",
       "    <tr>\n",
       "      <th>9</th>\n",
       "      <td>1880</td>\n",
       "      <td>50189209</td>\n",
       "    </tr>\n",
       "    <tr>\n",
       "      <th>10</th>\n",
       "      <td>1890</td>\n",
       "      <td>62947714</td>\n",
       "    </tr>\n",
       "    <tr>\n",
       "      <th>11</th>\n",
       "      <td>1900</td>\n",
       "      <td>76212168</td>\n",
       "    </tr>\n",
       "    <tr>\n",
       "      <th>12</th>\n",
       "      <td>1910</td>\n",
       "      <td>92228496</td>\n",
       "    </tr>\n",
       "    <tr>\n",
       "      <th>13</th>\n",
       "      <td>1920</td>\n",
       "      <td>106021537</td>\n",
       "    </tr>\n",
       "    <tr>\n",
       "      <th>14</th>\n",
       "      <td>1930</td>\n",
       "      <td>122775046</td>\n",
       "    </tr>\n",
       "    <tr>\n",
       "      <th>15</th>\n",
       "      <td>1940</td>\n",
       "      <td>132164569</td>\n",
       "    </tr>\n",
       "    <tr>\n",
       "      <th>16</th>\n",
       "      <td>1950</td>\n",
       "      <td>150697361</td>\n",
       "    </tr>\n",
       "    <tr>\n",
       "      <th>17</th>\n",
       "      <td>1960</td>\n",
       "      <td>179323175</td>\n",
       "    </tr>\n",
       "    <tr>\n",
       "      <th>18</th>\n",
       "      <td>1970</td>\n",
       "      <td>203302031</td>\n",
       "    </tr>\n",
       "    <tr>\n",
       "      <th>19</th>\n",
       "      <td>1980</td>\n",
       "      <td>226545805</td>\n",
       "    </tr>\n",
       "    <tr>\n",
       "      <th>20</th>\n",
       "      <td>1990</td>\n",
       "      <td>248709873</td>\n",
       "    </tr>\n",
       "    <tr>\n",
       "      <th>21</th>\n",
       "      <td>2000</td>\n",
       "      <td>281421906</td>\n",
       "    </tr>\n",
       "    <tr>\n",
       "      <th>22</th>\n",
       "      <td>2010</td>\n",
       "      <td>308745538</td>\n",
       "    </tr>\n",
       "  </tbody>\n",
       "</table>\n",
       "</div>"
      ],
      "text/plain": [
       "    year     us_pop\n",
       "0   1790    3929326\n",
       "1   1800    5308483\n",
       "2   1810    7239881\n",
       "3   1820    9638453\n",
       "4   1830   12866020\n",
       "5   1840   17069453\n",
       "6   1850   23191876\n",
       "7   1860   31443321\n",
       "8   1870   39818449\n",
       "9   1880   50189209\n",
       "10  1890   62947714\n",
       "11  1900   76212168\n",
       "12  1910   92228496\n",
       "13  1920  106021537\n",
       "14  1930  122775046\n",
       "15  1940  132164569\n",
       "16  1950  150697361\n",
       "17  1960  179323175\n",
       "18  1970  203302031\n",
       "19  1980  226545805\n",
       "20  1990  248709873\n",
       "21  2000  281421906\n",
       "22  2010  308745538"
      ]
     },
     "execution_count": 43,
     "metadata": {},
     "output_type": "execute_result"
    }
   ],
   "source": [
    "# Import a dataset\n",
    "df = pd.read_csv(r\"D:\\Bellevue Class documents\\DSC 320 Math for Data Science\\week3data\\week3data\\us_pop_data.csv\")\n",
    "df"
   ]
  },
  {
   "cell_type": "markdown",
   "id": "820aa7b7-816a-40c7-9c0f-bcbe55d3d192",
   "metadata": {},
   "source": [
    "## Import the data and create two new columns. Create one column that is the number of years since 1790. Create another column that is the population in millions."
   ]
  },
  {
   "cell_type": "code",
   "execution_count": 44,
   "id": "22be635b-cbaa-4839-a662-17977d12ee04",
   "metadata": {
    "tags": []
   },
   "outputs": [],
   "source": [
    "# Create a new column for the number of years since 1790\n",
    "df['Years_Since_1790'] = df['year'] - 1790\n",
    "\n",
    "# Create another column for population in millions\n",
    "df['Population_Millions'] = df['us_pop'] / 1000000"
   ]
  },
  {
   "cell_type": "code",
   "execution_count": 45,
   "id": "66b8c359-c442-4c72-8535-3d87b81701cc",
   "metadata": {
    "tags": []
   },
   "outputs": [
    {
     "data": {
      "text/html": [
       "<div>\n",
       "<style scoped>\n",
       "    .dataframe tbody tr th:only-of-type {\n",
       "        vertical-align: middle;\n",
       "    }\n",
       "\n",
       "    .dataframe tbody tr th {\n",
       "        vertical-align: top;\n",
       "    }\n",
       "\n",
       "    .dataframe thead th {\n",
       "        text-align: right;\n",
       "    }\n",
       "</style>\n",
       "<table border=\"1\" class=\"dataframe\">\n",
       "  <thead>\n",
       "    <tr style=\"text-align: right;\">\n",
       "      <th></th>\n",
       "      <th>year</th>\n",
       "      <th>us_pop</th>\n",
       "      <th>Years_Since_1790</th>\n",
       "      <th>Population_Millions</th>\n",
       "    </tr>\n",
       "  </thead>\n",
       "  <tbody>\n",
       "    <tr>\n",
       "      <th>0</th>\n",
       "      <td>1790</td>\n",
       "      <td>3929326</td>\n",
       "      <td>0</td>\n",
       "      <td>3.929326</td>\n",
       "    </tr>\n",
       "    <tr>\n",
       "      <th>1</th>\n",
       "      <td>1800</td>\n",
       "      <td>5308483</td>\n",
       "      <td>10</td>\n",
       "      <td>5.308483</td>\n",
       "    </tr>\n",
       "    <tr>\n",
       "      <th>2</th>\n",
       "      <td>1810</td>\n",
       "      <td>7239881</td>\n",
       "      <td>20</td>\n",
       "      <td>7.239881</td>\n",
       "    </tr>\n",
       "    <tr>\n",
       "      <th>3</th>\n",
       "      <td>1820</td>\n",
       "      <td>9638453</td>\n",
       "      <td>30</td>\n",
       "      <td>9.638453</td>\n",
       "    </tr>\n",
       "    <tr>\n",
       "      <th>4</th>\n",
       "      <td>1830</td>\n",
       "      <td>12866020</td>\n",
       "      <td>40</td>\n",
       "      <td>12.866020</td>\n",
       "    </tr>\n",
       "  </tbody>\n",
       "</table>\n",
       "</div>"
      ],
      "text/plain": [
       "   year    us_pop  Years_Since_1790  Population_Millions\n",
       "0  1790   3929326                 0             3.929326\n",
       "1  1800   5308483                10             5.308483\n",
       "2  1810   7239881                20             7.239881\n",
       "3  1820   9638453                30             9.638453\n",
       "4  1830  12866020                40            12.866020"
      ]
     },
     "execution_count": 45,
     "metadata": {},
     "output_type": "execute_result"
    }
   ],
   "source": [
    "df.head()"
   ]
  },
  {
   "cell_type": "markdown",
   "id": "082e4d4e-d47b-4dcf-9f2e-a64a413fa06c",
   "metadata": {},
   "source": [
    "## Plot the US population (in millions) versus the years since 1790"
   ]
  },
  {
   "cell_type": "code",
   "execution_count": 46,
   "id": "e8788fa7-475a-428b-b5d0-f78e13d79fad",
   "metadata": {
    "tags": []
   },
   "outputs": [],
   "source": [
    "x = df['Years_Since_1790']\n",
    "y = df['Population_Millions']"
   ]
  },
  {
   "cell_type": "code",
   "execution_count": 47,
   "id": "821784c8-4461-482b-b0aa-c8c6605c6b94",
   "metadata": {
    "tags": []
   },
   "outputs": [
    {
     "data": {
      "image/png": "[encoded data removed]",
      "text/plain": [
       "<Figure size 640x480 with 1 Axes>"
      ]
     },
     "metadata": {},
     "output_type": "display_data"
    }
   ],
   "source": [
    "# Plotting\n",
    "plt.plot(x, y)\n",
    "plt.title('US Population Over Years since 1790')\n",
    "plt.ylabel('Pop in Millions')\n",
    "plt.grid(True)\n",
    "plt.show()"
   ]
  },
  {
   "cell_type": "markdown",
   "id": "8f4ea3fe-1e48-4c00-af2a-8bd821fb4bb0",
   "metadata": {},
   "source": [
    "##  Create a linear regression model to predict the US population (in millions) t years from 1790. Find and report the R2-value of this model."
   ]
  },
  {
   "cell_type": "code",
   "execution_count": 48,
   "id": "96a32d65-08b6-4eb1-8783-b0c21466cd13",
   "metadata": {
    "tags": []
   },
   "outputs": [],
   "source": [
    "from sklearn import datasets, linear_model\n",
    "from sklearn.linear_model import LinearRegression\n"
   ]
  },
  {
   "cell_type": "code",
   "execution_count": 49,
   "id": "3daad453-154e-4eea-8c34-e3c0fbbcaaf7",
   "metadata": {
    "tags": []
   },
   "outputs": [],
   "source": [
    "# Change data to array so it can be used\n",
    "mx = x.to_numpy().reshape(-1, 1)\n",
    "my = y.to_numpy().reshape(-1, 1)"
   ]
  },
  {
   "cell_type": "code",
   "execution_count": 50,
   "id": "c02e125f-9d7e-4e90-9326-735b286bc13e",
   "metadata": {
    "tags": []
   },
   "outputs": [
    {
     "data": {
      "text/html": [
       "<style>#sk-container-id-3 {color: black;}#sk-container-id-3 pre{padding: 0;}#sk-container-id-3 div.sk-toggleable {background-color: white;}#sk-container-id-3 label.sk-toggleable__label {cursor: pointer;display: block;width: 100%;margin-bottom: 0;padding: 0.3em;box-sizing: border-box;text-align: center;}#sk-container-id-3 label.sk-toggleable__label-arrow:before {content: \"▸\";float: left;margin-right: 0.25em;color: #696969;}#sk-container-id-3 label.sk-toggleable__label-arrow:hover:before {color: black;}#sk-container-id-3 div.sk-estimator:hover label.sk-toggleable__label-arrow:before {color: black;}#sk-container-id-3 div.sk-toggleable__content {max-height: 0;max-width: 0;overflow: hidden;text-align: left;background-color: #f0f8ff;}#sk-container-id-3 div.sk-toggleable__content pre {margin: 0.2em;color: black;border-radius: 0.25em;background-color: #f0f8ff;}#sk-container-id-3 input.sk-toggleable__control:checked~div.sk-toggleable__content {max-height: 200px;max-width: 100%;overflow: auto;}#sk-container-id-3 input.sk-toggleable__control:checked~label.sk-toggleable__label-arrow:before {content: \"▾\";}#sk-container-id-3 div.sk-estimator input.sk-toggleable__control:checked~label.sk-toggleable__label {background-color: #d4ebff;}#sk-container-id-3 div.sk-label input.sk-toggleable__control:checked~label.sk-toggleable__label {background-color: #d4ebff;}#sk-container-id-3 input.sk-hidden--visually {border: 0;clip: rect(1px 1px 1px 1px);clip: rect(1px, 1px, 1px, 1px);height: 1px;margin: -1px;overflow: hidden;padding: 0;position: absolute;width: 1px;}#sk-container-id-3 div.sk-estimator {font-family: monospace;background-color: #f0f8ff;border: 1px dotted black;border-radius: 0.25em;box-sizing: border-box;margin-bottom: 0.5em;}#sk-container-id-3 div.sk-estimator:hover {background-color: #d4ebff;}#sk-container-id-3 div.sk-parallel-item::after {content: \"\";width: 100%;border-bottom: 1px solid gray;flex-grow: 1;}#sk-container-id-3 div.sk-label:hover label.sk-toggleable__label {background-color: #d4ebff;}#sk-container-id-3 div.sk-serial::before {content: \"\";position: absolute;border-left: 1px solid gray;box-sizing: border-box;top: 0;bottom: 0;left: 50%;z-index: 0;}#sk-container-id-3 div.sk-serial {display: flex;flex-direction: column;align-items: center;background-color: white;padding-right: 0.2em;padding-left: 0.2em;position: relative;}#sk-container-id-3 div.sk-item {position: relative;z-index: 1;}#sk-container-id-3 div.sk-parallel {display: flex;align-items: stretch;justify-content: center;background-color: white;position: relative;}#sk-container-id-3 div.sk-item::before, #sk-container-id-3 div.sk-parallel-item::before {content: \"\";position: absolute;border-left: 1px solid gray;box-sizing: border-box;top: 0;bottom: 0;left: 50%;z-index: -1;}#sk-container-id-3 div.sk-parallel-item {display: flex;flex-direction: column;z-index: 1;position: relative;background-color: white;}#sk-container-id-3 div.sk-parallel-item:first-child::after {align-self: flex-end;width: 50%;}#sk-container-id-3 div.sk-parallel-item:last-child::after {align-self: flex-start;width: 50%;}#sk-container-id-3 div.sk-parallel-item:only-child::after {width: 0;}#sk-container-id-3 div.sk-dashed-wrapped {border: 1px dashed gray;margin: 0 0.4em 0.5em 0.4em;box-sizing: border-box;padding-bottom: 0.4em;background-color: white;}#sk-container-id-3 div.sk-label label {font-family: monospace;font-weight: bold;display: inline-block;line-height: 1.2em;}#sk-container-id-3 div.sk-label-container {text-align: center;}#sk-container-id-3 div.sk-container {/* jupyter's `normalize.less` sets `[hidden] { display: none; }` but bootstrap.min.css set `[hidden] { display: none !important; }` so we also need the `!important` here to be able to override the default hidden behavior on the sphinx rendered scikit-learn.org. See: https://github.com/scikit-learn/scikit-learn/issues/21755 */display: inline-block !important;position: relative;}#sk-container-id-3 div.sk-text-repr-fallback {display: none;}</style><div id=\"sk-container-id-3\" class=\"sk-top-container\"><div class=\"sk-text-repr-fallback\"><pre>LinearRegression()</pre><b>In a Jupyter environment, please rerun this cell to show the HTML representation or trust the notebook. <br />On GitHub, the HTML representation is unable to render, please try loading this page with nbviewer.org.</b></div><div class=\"sk-container\" hidden><div class=\"sk-item\"><div class=\"sk-estimator sk-toggleable\"><input class=\"sk-toggleable__control sk-hidden--visually\" id=\"sk-estimator-id-3\" type=\"checkbox\" checked><label for=\"sk-estimator-id-3\" class=\"sk-toggleable__label sk-toggleable__label-arrow\">LinearRegression</label><div class=\"sk-toggleable__content\"><pre>LinearRegression()</pre></div></div></div></div></div>"
      ],
      "text/plain": [
       "LinearRegression()"
      ]
     },
     "execution_count": 50,
     "metadata": {},
     "output_type": "execute_result"
    }
   ],
   "source": [
    "# Create Model\n",
    "model = LinearRegression()\n",
    "model.fit(mx,my)"
   ]
  },
  {
   "cell_type": "code",
   "execution_count": 51,
   "id": "fa571f8e-2dec-42a5-969d-88c28d0a6bf6",
   "metadata": {
    "tags": []
   },
   "outputs": [],
   "source": [
    "# Make predictions\n",
    "y_pred = model.predict(mx)"
   ]
  },
  {
   "cell_type": "code",
   "execution_count": 52,
   "id": "e58d4e38-9cc2-41c8-b465-1d5e584366e7",
   "metadata": {
    "tags": []
   },
   "outputs": [],
   "source": [
    "# sklearn already has an r2 metric so we'll just use that\n",
    "from sklearn.metrics import r2_score"
   ]
  },
  {
   "cell_type": "code",
   "execution_count": 53,
   "id": "7678f5e8-20d6-4d6a-9be0-5677dc511fb3",
   "metadata": {
    "tags": []
   },
   "outputs": [
    {
     "data": {
      "text/plain": [
       "0.9192437447080442"
      ]
     },
     "execution_count": 53,
     "metadata": {},
     "output_type": "execute_result"
    }
   ],
   "source": [
    "# Compare predictions to actual values\n",
    "r2_score(my, y_pred)"
   ]
  },
  {
   "cell_type": "markdown",
   "id": "506f74a8-2553-439e-a9b0-58a5fa04e01c",
   "metadata": {},
   "source": [
    "## Create another new column in your data by squaring the number of years since 1790."
   ]
  },
  {
   "cell_type": "code",
   "execution_count": 54,
   "id": "3a0b0fa1-cd0e-4ac6-9e0a-3f7186b6e7f2",
   "metadata": {
    "tags": []
   },
   "outputs": [],
   "source": [
    "# Create a new column by squaring the number of years since 1790\n",
    "df['Years_Since_1790_Squared'] = np.square(df['Years_Since_1790'])"
   ]
  },
  {
   "cell_type": "code",
   "execution_count": 55,
   "id": "04da1ea1-89ee-4d95-9695-573b055bdacc",
   "metadata": {
    "tags": []
   },
   "outputs": [
    {
     "data": {
      "text/html": [
       "<div>\n",
       "<style scoped>\n",
       "    .dataframe tbody tr th:only-of-type {\n",
       "        vertical-align: middle;\n",
       "    }\n",
       "\n",
       "    .dataframe tbody tr th {\n",
       "        vertical-align: top;\n",
       "    }\n",
       "\n",
       "    .dataframe thead th {\n",
       "        text-align: right;\n",
       "    }\n",
       "</style>\n",
       "<table border=\"1\" class=\"dataframe\">\n",
       "  <thead>\n",
       "    <tr style=\"text-align: right;\">\n",
       "      <th></th>\n",
       "      <th>year</th>\n",
       "      <th>us_pop</th>\n",
       "      <th>Years_Since_1790</th>\n",
       "      <th>Population_Millions</th>\n",
       "      <th>Years_Since_1790_Squared</th>\n",
       "    </tr>\n",
       "  </thead>\n",
       "  <tbody>\n",
       "    <tr>\n",
       "      <th>0</th>\n",
       "      <td>1790</td>\n",
       "      <td>3929326</td>\n",
       "      <td>0</td>\n",
       "      <td>3.929326</td>\n",
       "      <td>0</td>\n",
       "    </tr>\n",
       "    <tr>\n",
       "      <th>1</th>\n",
       "      <td>1800</td>\n",
       "      <td>5308483</td>\n",
       "      <td>10</td>\n",
       "      <td>5.308483</td>\n",
       "      <td>100</td>\n",
       "    </tr>\n",
       "    <tr>\n",
       "      <th>2</th>\n",
       "      <td>1810</td>\n",
       "      <td>7239881</td>\n",
       "      <td>20</td>\n",
       "      <td>7.239881</td>\n",
       "      <td>400</td>\n",
       "    </tr>\n",
       "    <tr>\n",
       "      <th>3</th>\n",
       "      <td>1820</td>\n",
       "      <td>9638453</td>\n",
       "      <td>30</td>\n",
       "      <td>9.638453</td>\n",
       "      <td>900</td>\n",
       "    </tr>\n",
       "    <tr>\n",
       "      <th>4</th>\n",
       "      <td>1830</td>\n",
       "      <td>12866020</td>\n",
       "      <td>40</td>\n",
       "      <td>12.866020</td>\n",
       "      <td>1600</td>\n",
       "    </tr>\n",
       "  </tbody>\n",
       "</table>\n",
       "</div>"
      ],
      "text/plain": [
       "   year    us_pop  Years_Since_1790  Population_Millions  \\\n",
       "0  1790   3929326                 0             3.929326   \n",
       "1  1800   5308483                10             5.308483   \n",
       "2  1810   7239881                20             7.239881   \n",
       "3  1820   9638453                30             9.638453   \n",
       "4  1830  12866020                40            12.866020   \n",
       "\n",
       "   Years_Since_1790_Squared  \n",
       "0                         0  \n",
       "1                       100  \n",
       "2                       400  \n",
       "3                       900  \n",
       "4                      1600  "
      ]
     },
     "execution_count": 55,
     "metadata": {},
     "output_type": "execute_result"
    }
   ],
   "source": [
    "df.head()"
   ]
  },
  {
   "cell_type": "markdown",
   "id": "2b92efd7-3de7-4daf-9eb7-2325557bd659",
   "metadata": {},
   "source": [
    "## Run another linear regression, where your input feature is the square of the number of years since 1790. Find and report the R2-value of this model."
   ]
  },
  {
   "cell_type": "code",
   "execution_count": 56,
   "id": "17ed4b5c-9db8-4457-8f1c-31df95c22857",
   "metadata": {
    "tags": []
   },
   "outputs": [],
   "source": [
    "# Prepare the new input feature\n",
    "mx2 = df['Years_Since_1790_Squared'].to_numpy().reshape(-1, 1)\n"
   ]
  },
  {
   "cell_type": "code",
   "execution_count": 57,
   "id": "06acdb13-5ad3-42d6-949a-424226c2df9d",
   "metadata": {
    "tags": []
   },
   "outputs": [
    {
     "data": {
      "text/html": [
       "<style>#sk-container-id-4 {color: black;}#sk-container-id-4 pre{padding: 0;}#sk-container-id-4 div.sk-toggleable {background-color: white;}#sk-container-id-4 label.sk-toggleable__label {cursor: pointer;display: block;width: 100%;margin-bottom: 0;padding: 0.3em;box-sizing: border-box;text-align: center;}#sk-container-id-4 label.sk-toggleable__label-arrow:before {content: \"▸\";float: left;margin-right: 0.25em;color: #696969;}#sk-container-id-4 label.sk-toggleable__label-arrow:hover:before {color: black;}#sk-container-id-4 div.sk-estimator:hover label.sk-toggleable__label-arrow:before {color: black;}#sk-container-id-4 div.sk-toggleable__content {max-height: 0;max-width: 0;overflow: hidden;text-align: left;background-color: #f0f8ff;}#sk-container-id-4 div.sk-toggleable__content pre {margin: 0.2em;color: black;border-radius: 0.25em;background-color: #f0f8ff;}#sk-container-id-4 input.sk-toggleable__control:checked~div.sk-toggleable__content {max-height: 200px;max-width: 100%;overflow: auto;}#sk-container-id-4 input.sk-toggleable__control:checked~label.sk-toggleable__label-arrow:before {content: \"▾\";}#sk-container-id-4 div.sk-estimator input.sk-toggleable__control:checked~label.sk-toggleable__label {background-color: #d4ebff;}#sk-container-id-4 div.sk-label input.sk-toggleable__control:checked~label.sk-toggleable__label {background-color: #d4ebff;}#sk-container-id-4 input.sk-hidden--visually {border: 0;clip: rect(1px 1px 1px 1px);clip: rect(1px, 1px, 1px, 1px);height: 1px;margin: -1px;overflow: hidden;padding: 0;position: absolute;width: 1px;}#sk-container-id-4 div.sk-estimator {font-family: monospace;background-color: #f0f8ff;border: 1px dotted black;border-radius: 0.25em;box-sizing: border-box;margin-bottom: 0.5em;}#sk-container-id-4 div.sk-estimator:hover {background-color: #d4ebff;}#sk-container-id-4 div.sk-parallel-item::after {content: \"\";width: 100%;border-bottom: 1px solid gray;flex-grow: 1;}#sk-container-id-4 div.sk-label:hover label.sk-toggleable__label {background-color: #d4ebff;}#sk-container-id-4 div.sk-serial::before {content: \"\";position: absolute;border-left: 1px solid gray;box-sizing: border-box;top: 0;bottom: 0;left: 50%;z-index: 0;}#sk-container-id-4 div.sk-serial {display: flex;flex-direction: column;align-items: center;background-color: white;padding-right: 0.2em;padding-left: 0.2em;position: relative;}#sk-container-id-4 div.sk-item {position: relative;z-index: 1;}#sk-container-id-4 div.sk-parallel {display: flex;align-items: stretch;justify-content: center;background-color: white;position: relative;}#sk-container-id-4 div.sk-item::before, #sk-container-id-4 div.sk-parallel-item::before {content: \"\";position: absolute;border-left: 1px solid gray;box-sizing: border-box;top: 0;bottom: 0;left: 50%;z-index: -1;}#sk-container-id-4 div.sk-parallel-item {display: flex;flex-direction: column;z-index: 1;position: relative;background-color: white;}#sk-container-id-4 div.sk-parallel-item:first-child::after {align-self: flex-end;width: 50%;}#sk-container-id-4 div.sk-parallel-item:last-child::after {align-self: flex-start;width: 50%;}#sk-container-id-4 div.sk-parallel-item:only-child::after {width: 0;}#sk-container-id-4 div.sk-dashed-wrapped {border: 1px dashed gray;margin: 0 0.4em 0.5em 0.4em;box-sizing: border-box;padding-bottom: 0.4em;background-color: white;}#sk-container-id-4 div.sk-label label {font-family: monospace;font-weight: bold;display: inline-block;line-height: 1.2em;}#sk-container-id-4 div.sk-label-container {text-align: center;}#sk-container-id-4 div.sk-container {/* jupyter's `normalize.less` sets `[hidden] { display: none; }` but bootstrap.min.css set `[hidden] { display: none !important; }` so we also need the `!important` here to be able to override the default hidden behavior on the sphinx rendered scikit-learn.org. See: https://github.com/scikit-learn/scikit-learn/issues/21755 */display: inline-block !important;position: relative;}#sk-container-id-4 div.sk-text-repr-fallback {display: none;}</style><div id=\"sk-container-id-4\" class=\"sk-top-container\"><div class=\"sk-text-repr-fallback\"><pre>LinearRegression()</pre><b>In a Jupyter environment, please rerun this cell to show the HTML representation or trust the notebook. <br />On GitHub, the HTML representation is unable to render, please try loading this page with nbviewer.org.</b></div><div class=\"sk-container\" hidden><div class=\"sk-item\"><div class=\"sk-estimator sk-toggleable\"><input class=\"sk-toggleable__control sk-hidden--visually\" id=\"sk-estimator-id-4\" type=\"checkbox\" checked><label for=\"sk-estimator-id-4\" class=\"sk-toggleable__label sk-toggleable__label-arrow\">LinearRegression</label><div class=\"sk-toggleable__content\"><pre>LinearRegression()</pre></div></div></div></div></div>"
      ],
      "text/plain": [
       "LinearRegression()"
      ]
     },
     "execution_count": 57,
     "metadata": {},
     "output_type": "execute_result"
    }
   ],
   "source": [
    "model.fit(mx2,my)"
   ]
  },
  {
   "cell_type": "code",
   "execution_count": 58,
   "id": "c199e89d-94b2-471d-9b9c-cd7d64dfd362",
   "metadata": {
    "tags": []
   },
   "outputs": [],
   "source": [
    "# Make predictions\n",
    "y_pred2 = model.predict(mx2)"
   ]
  },
  {
   "cell_type": "code",
   "execution_count": 59,
   "id": "5e8f3e5d-2153-418e-9d59-c915066af265",
   "metadata": {
    "tags": []
   },
   "outputs": [
    {
     "data": {
      "text/plain": [
       "0.9984915694986646"
      ]
     },
     "execution_count": 59,
     "metadata": {},
     "output_type": "execute_result"
    }
   ],
   "source": [
    "# Compare predictions to actual values\n",
    "r2_score(my, y_pred2)"
   ]
  },
  {
   "cell_type": "markdown",
   "id": "6a366de8-b366-4d25-ae88-220200ef2bbb",
   "metadata": {},
   "source": [
    "## Plot the models you built on top of the data. Which one fits the data better? Is this apparent in your R2-values. Explain"
   ]
  },
  {
   "cell_type": "code",
   "execution_count": 60,
   "id": "09a6d8b2-0e2b-428d-9619-68c6862523a5",
   "metadata": {
    "tags": []
   },
   "outputs": [
    {
     "data": {
      "image/png": "[encoded data removed]",
      "text/plain": [
       "<Figure size 640x480 with 1 Axes>"
      ]
     },
     "metadata": {},
     "output_type": "display_data"
    }
   ],
   "source": [
    "# Plotting\n",
    "plt.plot(x, y)\n",
    "plt.plot(x, y_pred, color='purple')\n",
    "plt.plot(x, y_pred2, color='red',)\n",
    "plt.title('US Population Over Years since 1790 plus Lin Reg Models')\n",
    "plt.ylabel('Pop in Millions')\n",
    "plt.grid(True)\n",
    "plt.show()"
   ]
  },
  {
   "cell_type": "markdown",
   "id": "6e1b95ff-94c9-446c-9fad-6526f2f03f92",
   "metadata": {},
   "source": [
    "### The second model ended up being more accurate as it seemed to better take into account the exponential growth of the population over time. This is accurately portrayed by the graph more closely resembling the original graph and the fact that the 2nd model had a higher r2 value meaning it was more closely accurate with its predictions. "
   ]
  },
  {
   "cell_type": "markdown",
   "id": "aa3541ea-7e76-4bbb-85b3-2368fe239037",
   "metadata": {
    "tags": []
   },
   "source": [
    "# Customer Spending Data\n",
    "For this problem, you will be using the data set customer spending.csv. This data set is modified\n",
    "version of the data from https://archive.ics.uci.edu/ml/datasets/Wholesale+customers."
   ]
  },
  {
   "cell_type": "code",
   "execution_count": 61,
   "id": "9567d1cf-c202-47c4-8593-4f7f67c04e36",
   "metadata": {
    "tags": []
   },
   "outputs": [
    {
     "data": {
      "text/html": [
       "<div>\n",
       "<style scoped>\n",
       "    .dataframe tbody tr th:only-of-type {\n",
       "        vertical-align: middle;\n",
       "    }\n",
       "\n",
       "    .dataframe tbody tr th {\n",
       "        vertical-align: top;\n",
       "    }\n",
       "\n",
       "    .dataframe thead th {\n",
       "        text-align: right;\n",
       "    }\n",
       "</style>\n",
       "<table border=\"1\" class=\"dataframe\">\n",
       "  <thead>\n",
       "    <tr style=\"text-align: right;\">\n",
       "      <th></th>\n",
       "      <th>ann_spending</th>\n",
       "    </tr>\n",
       "  </thead>\n",
       "  <tbody>\n",
       "    <tr>\n",
       "      <th>0</th>\n",
       "      <td>34112</td>\n",
       "    </tr>\n",
       "    <tr>\n",
       "      <th>1</th>\n",
       "      <td>33266</td>\n",
       "    </tr>\n",
       "    <tr>\n",
       "      <th>2</th>\n",
       "      <td>36610</td>\n",
       "    </tr>\n",
       "    <tr>\n",
       "      <th>3</th>\n",
       "      <td>27381</td>\n",
       "    </tr>\n",
       "    <tr>\n",
       "      <th>4</th>\n",
       "      <td>46100</td>\n",
       "    </tr>\n",
       "    <tr>\n",
       "      <th>...</th>\n",
       "      <td>...</td>\n",
       "    </tr>\n",
       "    <tr>\n",
       "      <th>435</th>\n",
       "      <td>73302</td>\n",
       "    </tr>\n",
       "    <tr>\n",
       "      <th>436</th>\n",
       "      <td>48372</td>\n",
       "    </tr>\n",
       "    <tr>\n",
       "      <th>437</th>\n",
       "      <td>77407</td>\n",
       "    </tr>\n",
       "    <tr>\n",
       "      <th>438</th>\n",
       "      <td>17834</td>\n",
       "    </tr>\n",
       "    <tr>\n",
       "      <th>439</th>\n",
       "      <td>7589</td>\n",
       "    </tr>\n",
       "  </tbody>\n",
       "</table>\n",
       "<p>440 rows × 1 columns</p>\n",
       "</div>"
      ],
      "text/plain": [
       "     ann_spending\n",
       "0           34112\n",
       "1           33266\n",
       "2           36610\n",
       "3           27381\n",
       "4           46100\n",
       "..            ...\n",
       "435         73302\n",
       "436         48372\n",
       "437         77407\n",
       "438         17834\n",
       "439          7589\n",
       "\n",
       "[440 rows x 1 columns]"
      ]
     },
     "execution_count": 61,
     "metadata": {},
     "output_type": "execute_result"
    }
   ],
   "source": [
    "# Import a dataset\n",
    "df2 = pd.read_csv(r\"D:\\Bellevue Class documents\\DSC 320 Math for Data Science\\week3data\\week3data\\customer_spending.csv\")\n",
    "df2"
   ]
  },
  {
   "cell_type": "markdown",
   "id": "da427749-f731-4ba2-88d9-0e3a610ad833",
   "metadata": {},
   "source": [
    "### Make a histogram of the customer spending amounts."
   ]
  },
  {
   "cell_type": "code",
   "execution_count": 62,
   "id": "de085af4-c104-4ae1-b59e-b9c0537ff582",
   "metadata": {
    "tags": []
   },
   "outputs": [
    {
     "data": {
      "image/png": "[encoded data removed]",
      "text/plain": [
       "<Figure size 640x480 with 1 Axes>"
      ]
     },
     "metadata": {},
     "output_type": "display_data"
    }
   ],
   "source": [
    "plt.hist(df2)\n",
    "plt.show()"
   ]
  },
  {
   "cell_type": "markdown",
   "id": "302a99df-3c80-47df-bbe8-88fdbf516865",
   "metadata": {},
   "source": [
    "### Make a new data set that is a log transformation of the customer spending amounts."
   ]
  },
  {
   "cell_type": "code",
   "execution_count": 63,
   "id": "d5b4d33a-b7c3-4276-9625-d39fc86df63f",
   "metadata": {
    "tags": []
   },
   "outputs": [],
   "source": [
    "df2['ann_spending_log'] = np.log(df2['ann_spending'])"
   ]
  },
  {
   "cell_type": "code",
   "execution_count": 64,
   "id": "c5ef88d9-6df5-4409-9802-e9e0ab463335",
   "metadata": {
    "tags": []
   },
   "outputs": [
    {
     "data": {
      "text/html": [
       "<div>\n",
       "<style scoped>\n",
       "    .dataframe tbody tr th:only-of-type {\n",
       "        vertical-align: middle;\n",
       "    }\n",
       "\n",
       "    .dataframe tbody tr th {\n",
       "        vertical-align: top;\n",
       "    }\n",
       "\n",
       "    .dataframe thead th {\n",
       "        text-align: right;\n",
       "    }\n",
       "</style>\n",
       "<table border=\"1\" class=\"dataframe\">\n",
       "  <thead>\n",
       "    <tr style=\"text-align: right;\">\n",
       "      <th></th>\n",
       "      <th>ann_spending</th>\n",
       "      <th>ann_spending_log</th>\n",
       "    </tr>\n",
       "  </thead>\n",
       "  <tbody>\n",
       "    <tr>\n",
       "      <th>0</th>\n",
       "      <td>34112</td>\n",
       "      <td>10.437405</td>\n",
       "    </tr>\n",
       "    <tr>\n",
       "      <th>1</th>\n",
       "      <td>33266</td>\n",
       "      <td>10.412291</td>\n",
       "    </tr>\n",
       "    <tr>\n",
       "      <th>2</th>\n",
       "      <td>36610</td>\n",
       "      <td>10.508077</td>\n",
       "    </tr>\n",
       "    <tr>\n",
       "      <th>3</th>\n",
       "      <td>27381</td>\n",
       "      <td>10.217605</td>\n",
       "    </tr>\n",
       "    <tr>\n",
       "      <th>4</th>\n",
       "      <td>46100</td>\n",
       "      <td>10.738568</td>\n",
       "    </tr>\n",
       "  </tbody>\n",
       "</table>\n",
       "</div>"
      ],
      "text/plain": [
       "   ann_spending  ann_spending_log\n",
       "0         34112         10.437405\n",
       "1         33266         10.412291\n",
       "2         36610         10.508077\n",
       "3         27381         10.217605\n",
       "4         46100         10.738568"
      ]
     },
     "execution_count": 64,
     "metadata": {},
     "output_type": "execute_result"
    }
   ],
   "source": [
    "df2.head()"
   ]
  },
  {
   "cell_type": "markdown",
   "id": "32625a45-cba0-4075-9735-1eeb813f3bba",
   "metadata": {},
   "source": [
    "### Make a histogram of the log transformed dataset."
   ]
  },
  {
   "cell_type": "code",
   "execution_count": 66,
   "id": "cec949b2-bf9b-4114-bb1f-784f9e2acdc2",
   "metadata": {
    "tags": []
   },
   "outputs": [
    {
     "data": {
      "image/png": "[encoded data removed]",
      "text/plain": [
       "<Figure size 640x480 with 1 Axes>"
      ]
     },
     "metadata": {},
     "output_type": "display_data"
    }
   ],
   "source": [
    "plt.hist(df2['ann_spending_log'])\n",
    "plt.show()"
   ]
  },
  {
   "cell_type": "markdown",
   "id": "8022eafe-60e6-4890-aedf-559079bbb9cf",
   "metadata": {},
   "source": [
    "### Compare the two histograms. Discuss why it might be useful to apply a log transformation to this data for modeling purposes."
   ]
  },
  {
   "cell_type": "markdown",
   "id": "438561e3-4ed6-4d49-b045-aff36cd3eee0",
   "metadata": {},
   "source": [
    "One reason is to fix a skewed dataset. The first histogram is skewed heavily to the right, the 2nd looks more normally distributed while still having differential values.  \n",
    "\n",
    "Another related reason is to normalize outliers. The outliers can be left in the dataset without skewing the data too much when it is transformed with log. We can now still see the outling datasest without them being too far away from the other data."
   ]
  },
  {
   "cell_type": "code",
   "execution_count": null,
   "id": "0359c0a8-1fb9-4a81-abab-f9965b6ff6f2",
   "metadata": {},
   "outputs": [],
   "source": []
  }
 ],
 "metadata": {
  "kernelspec": {
   "display_name": "Python 3 (ipykernel)",
   "language": "python",
   "name": "python3"
  },
  "language_info": {
   "codemirror_mode": {
    "name": "ipython",
    "version": 3
   },
   "file_extension": ".py",
   "mimetype": "text/x-python",
   "name": "python",
   "nbconvert_exporter": "python",
   "pygments_lexer": "ipython3",
   "version": "3.11.4"
  }
 },
 "nbformat": 4,
 "nbformat_minor": 5
}
